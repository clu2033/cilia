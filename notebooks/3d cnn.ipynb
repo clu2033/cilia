{
 "cells": [
  {
   "cell_type": "code",
   "execution_count": null,
   "metadata": {
    "collapsed": true
   },
   "outputs": [],
   "source": [
    "cd /data/cilia/notebooks"
   ]
  },
  {
   "cell_type": "code",
   "execution_count": 40,
   "metadata": {
    "collapsed": true
   },
   "outputs": [],
   "source": [
    "from __future__ import print_function\n",
    "from builtins import range\n",
    "import pandas as pd\n",
    "import numpy as np\n",
    "import os, glob, random, math\n",
    "import tensorflow as tf\n",
    "import cv2\n",
    "import matplotlib.pyplot as plt"
   ]
  },
  {
   "cell_type": "code",
   "execution_count": 3,
   "metadata": {
    "collapsed": false
   },
   "outputs": [],
   "source": [
    "labels_path = '../input/labels.txt'\n",
    "labels = pd.read_table(labels_path, sep=' ', names=['Patient', 'Abnormality', 'class'])"
   ]
  },
  {
   "cell_type": "code",
   "execution_count": 4,
   "metadata": {
    "collapsed": false
   },
   "outputs": [
    {
     "data": {
      "text/html": [
       "<div>\n",
       "<table border=\"1\" class=\"dataframe\">\n",
       "  <thead>\n",
       "    <tr style=\"text-align: right;\">\n",
       "      <th></th>\n",
       "      <th>Patient</th>\n",
       "      <th>Abnormality</th>\n",
       "    </tr>\n",
       "    <tr>\n",
       "      <th>class</th>\n",
       "      <th></th>\n",
       "      <th></th>\n",
       "    </tr>\n",
       "  </thead>\n",
       "  <tbody>\n",
       "    <tr>\n",
       "      <th>0</th>\n",
       "      <td>96</td>\n",
       "      <td>96</td>\n",
       "    </tr>\n",
       "    <tr>\n",
       "      <th>1</th>\n",
       "      <td>53</td>\n",
       "      <td>53</td>\n",
       "    </tr>\n",
       "  </tbody>\n",
       "</table>\n",
       "</div>"
      ],
      "text/plain": [
       "       Patient  Abnormality\n",
       "class                      \n",
       "0           96           96\n",
       "1           53           53"
      ]
     },
     "execution_count": 4,
     "metadata": {},
     "output_type": "execute_result"
    }
   ],
   "source": [
    "labels.groupby('class').count()"
   ]
  },
  {
   "cell_type": "code",
   "execution_count": 5,
   "metadata": {
    "collapsed": false
   },
   "outputs": [
    {
     "data": {
      "text/html": [
       "<div>\n",
       "<table border=\"1\" class=\"dataframe\">\n",
       "  <thead>\n",
       "    <tr style=\"text-align: right;\">\n",
       "      <th></th>\n",
       "      <th>Patient</th>\n",
       "      <th>class</th>\n",
       "    </tr>\n",
       "    <tr>\n",
       "      <th>Abnormality</th>\n",
       "      <th></th>\n",
       "      <th></th>\n",
       "    </tr>\n",
       "  </thead>\n",
       "  <tbody>\n",
       "    <tr>\n",
       "      <th>1</th>\n",
       "      <td>82</td>\n",
       "      <td>82</td>\n",
       "    </tr>\n",
       "    <tr>\n",
       "      <th>2</th>\n",
       "      <td>14</td>\n",
       "      <td>14</td>\n",
       "    </tr>\n",
       "    <tr>\n",
       "      <th>3</th>\n",
       "      <td>13</td>\n",
       "      <td>13</td>\n",
       "    </tr>\n",
       "    <tr>\n",
       "      <th>4</th>\n",
       "      <td>40</td>\n",
       "      <td>40</td>\n",
       "    </tr>\n",
       "  </tbody>\n",
       "</table>\n",
       "</div>"
      ],
      "text/plain": [
       "             Patient  class\n",
       "Abnormality                \n",
       "1                 82     82\n",
       "2                 14     14\n",
       "3                 13     13\n",
       "4                 40     40"
      ]
     },
     "execution_count": 5,
     "metadata": {},
     "output_type": "execute_result"
    }
   ],
   "source": [
    "labels.groupby('Abnormality').count()"
   ]
  },
  {
   "cell_type": "code",
   "execution_count": 6,
   "metadata": {
    "collapsed": false
   },
   "outputs": [
    {
     "name": "stdout",
     "output_type": "stream",
     "text": [
      "('Missing:', '9050l.npy')\n",
      "7246-4.npy\n",
      "1015-2.npy\n",
      "7152-13.npy\n",
      "7269-2.npy\n",
      "7019-17.npy\n",
      "1055-6.npy\n",
      "1031-3.npy\n",
      "7016-6.npy\n",
      "9022-2.npy\n",
      "7235-7.npy\n",
      "9031-13.npy\n",
      "7318-12.npy\n",
      "9051-s.npy\n",
      "('Missing:', '9048j.npy')\n",
      "('Missing:', '90346.npy')\n",
      "1015-5.npy\n",
      "9051-w.npy\n",
      "9045-k.npy\n",
      "7318-3.npy\n",
      "7160-10.npy\n",
      "1033-3.npy\n",
      "9043-i.npy\n",
      "7027-7.npy\n",
      "1028-5.npy\n",
      "9003-1c200.npy\n",
      "7261-10.npy\n",
      "9020-1f.npy\n",
      "7027-5.npy\n",
      "9049-n.npy\n",
      "1038-1.npy\n",
      "1028-3.npy\n",
      "9019-8.npy\n",
      "9023-4.npy\n",
      "7019-6.npy\n",
      "9013-l.npy\n",
      "7318-2.npy\n",
      "7246-12.npy\n",
      "1043-2.npy\n",
      "7246-2.npy\n",
      "9036-14.npy\n",
      "9025-3.npy\n",
      "1045-8.npy\n",
      "7281-6.npy\n",
      "9013-s.npy\n",
      "9043-k.npy\n",
      "1045-10.npy\n",
      "1006-7.npy\n",
      "9035-11.npy\n",
      "9043-e.npy\n",
      "1055-3.npy\n",
      "9033-11.npy\n",
      "7208-12.npy\n",
      "9024-2.npy\n",
      "9044-g.npy\n",
      "9049-t.npy\n",
      "7235-3.npy\n",
      "1001-1.npy\n",
      "7016-4.npy\n",
      "9049-q.npy\n",
      "7016-1.npy\n",
      "9013-u.npy\n",
      "9051-b.npy\n",
      "7132-20.npy\n",
      "1043-8.npy\n",
      "9049-s.npy\n",
      "7241-12.npy\n",
      "7096-10.npy\n",
      "1034-9.npy\n",
      "('Missing:', '90348.npy')\n",
      "7016-3.npy\n",
      "('Missing:', '90347.npy')\n",
      "9028-4.npy\n",
      "1031-1.npy\n",
      "7286-9.npy\n",
      "1036-7.npy\n",
      "7050-4.npy\n",
      "9023-1.npy\n",
      "7127-16.npy\n",
      "7318-5.npy\n",
      "7318-7.npy\n",
      "9033-8.npy\n",
      "7050-3.npy\n",
      "7016-7.npy\n",
      "9051-e.npy\n",
      "7027-16.npy\n",
      "9029-1f.npy\n",
      "1029-1.npy\n",
      "7280-7.npy\n",
      "7019-2.npy\n",
      "1053-4.npy\n",
      "7254-5.npy\n",
      "7051-5.npy\n",
      "1001-3.npy\n",
      "7286-3.npy\n",
      "9019-12.npy\n",
      "7096-7.npy\n",
      "1038-8.npy\n",
      "9044-h.npy\n",
      "6019-13.npy\n",
      "9038-2.npy\n",
      "9044-e.npy\n",
      "9020-1a.npy\n",
      "7160-5.npy\n",
      "7286-1.npy\n",
      "7246-9.npy\n",
      "7132-3.npy\n",
      "9026-5.npy\n",
      "9036-1.npy\n",
      "('Missing:', '90341.npy')\n",
      "9033-3.npy\n",
      "1030-6.npy\n",
      "7208-8.npy\n",
      "7101-13.npy\n",
      "1011-5.npy\n",
      "7027-1.npy\n",
      "1011-3.npy\n",
      "('Missing:', '9048d.npy')\n",
      "('Missing:', '9050d1.npy')\n",
      "1037-5.npy\n",
      "7019-3.npy\n",
      "1013-2.npy\n",
      "9049-p.npy\n",
      "9028-7.npy\n",
      "9013-b.npy\n",
      "1045-7.npy\n",
      "9025-71o5x.npy\n",
      "1030-1.npy\n",
      "7241-6.npy\n",
      "1026-5.npy\n",
      "7287-7.npy\n",
      "9020-1e.npy\n",
      "9042-h.npy\n",
      "7208-11.npy\n",
      "7318-4.npy\n",
      "1043-3.npy\n",
      "7019-20.npy\n",
      "9031-17.npy\n",
      "9033-4.npy\n",
      "1025-5.npy\n",
      "7096-5.npy\n",
      "9031-201o5x.npy\n",
      "9022-6.npy\n",
      "('Missing:', '9050p.npy')\n",
      "1003-8.npy\n",
      "1036-6.npy\n",
      "9051-t.npy\n",
      "7254-8.npy\n",
      "1055-2.npy\n",
      "1003-7.npy\n",
      "9019-3.npy\n",
      "9025-41o5x.npy\n",
      "6019-16.npy\n",
      "1038-3.npy\n",
      "9038-4.npy\n",
      "7019-14.npy\n",
      "9019-2.npy\n",
      "9045-i.npy\n",
      "1027-1.npy\n",
      "9036-5.npy\n",
      "7254-3.npy\n",
      "1043-1.npy\n",
      "7127-17.npy\n",
      "9032-5.npy\n",
      "1003-10.npy\n",
      "9025-4.npy\n",
      "9020-1i.npy\n",
      "9049-m.npy\n",
      "7254-12.npy\n",
      "7318-1.npy\n",
      "1043-7.npy\n",
      "7160-3.npy\n",
      "9029-1g.npy\n",
      "9037-3.npy\n",
      "9042-f.npy\n",
      "9036-12.npy\n",
      "9023-5.npy\n",
      "9038-6.npy\n",
      "9045-f.npy\n",
      "9022-1.npy\n",
      "7019-8.npy\n",
      "('Missing:', '9048a.npy')\n",
      "9020-1k.npy\n",
      "9031-191o5x.npy\n",
      "9051-g.npy\n",
      "1035-3.npy\n",
      "1045-3.npy\n",
      "9028-2.npy\n",
      "9013-j.npy\n",
      "9031-5.npy\n",
      "7318-6.npy\n",
      "9028-3.npy\n",
      "1034-3.npy\n",
      "7027-21.npy\n",
      "('Missing:', '90349.npy')\n",
      "1038-9.npy\n",
      "7246-5.npy\n",
      "9025-6.npy\n",
      "9049-j.npy\n",
      "9028-2.npy\n",
      "7246-1.npy\n",
      "9042-d.npy\n",
      "1006-6.npy\n",
      "9035-3.npy\n",
      "9025-1.npy\n",
      "1001-5.npy\n",
      "9032-4.npy\n",
      "9026-3.npy\n",
      "9013-k.npy\n",
      "9024-3.npy\n",
      "1004-3.npy\n",
      "7280-8.npy\n",
      "1038-5.npy\n",
      "7280-4.npy\n",
      "1023-1.npy\n",
      "9020-1c.npy\n",
      "1038-10.npy\n",
      "9028-6.npy\n",
      "9027-1.npy\n",
      "7027-6.npy\n",
      "7254-7.npy\n",
      "7069-6.npy\n",
      "1037-6.npy\n",
      "9029-1c.npy\n",
      "9049-d.npy\n",
      "6019-10.npy\n",
      "1055-1.npy\n",
      "7101-14.npy\n",
      "9035-14.npy\n",
      "7019-16.npy\n",
      "1032-7.npy\n",
      "1001-6.npy\n",
      "1002-1.npy\n",
      "1053-6.npy\n",
      "7235-12.npy\n",
      "7241-8.npy\n",
      "7019-12.npy\n",
      "('Missing:', '9050n.npy')\n",
      "7016-1a.npy\n",
      "9024-9.npy\n",
      "7287-9.npy\n",
      "9013-y.npy\n",
      "9031-4.npy\n",
      "7050-6.npy\n",
      "7280-11.npy\n",
      "9051-m.npy\n",
      "9038-5.npy\n",
      "7101-10.npy\n",
      "('Missing:', '9048g.npy')\n",
      "7286-5.npy\n",
      "9013-h.npy\n",
      "7027-12.npy\n",
      "7281-5.npy\n",
      "9026-71o5x.npy\n",
      "1003-2.npy\n",
      "9051-j.npy\n",
      "9024-4.npy\n",
      "9044-c.npy\n",
      "7050-7.npy\n",
      "7318-10.npy\n",
      "9029-1a.npy\n",
      "7280-12.npy\n",
      "7050-2.npy\n",
      "7208-15.npy\n",
      "7050-5.npy\n",
      "9037-2.npy\n",
      "9043-f.npy\n",
      "1037-7.npy\n",
      "9035-5.npy\n",
      "9033-9.npy\n",
      "7051-2.npy\n",
      "7016-5.npy\n",
      "1001-2.npy\n",
      "9036-7.npy\n",
      "9027-2.npy\n",
      "1001-8.npy\n",
      "7160-6.npy\n",
      "7246-7.npy\n",
      "7318-11.npy\n",
      "9023-2.npy\n",
      "9003-1b200.npy\n",
      "9020-1b.npy\n",
      "1038-4.npy\n",
      "9028-6.npy\n",
      "1001-13.npy\n",
      "9028-1.npy\n",
      "9035-13.npy\n",
      "('Missing:', '9050c1.npy')\n",
      "('Missing:', '9050q.npy')\n",
      "7287-1.npy\n",
      "1011-4.npy\n",
      "9044-f.npy\n",
      "9013-f.npy\n",
      "7027-4.npy\n",
      "1030-5.npy\n",
      "9045-h.npy\n",
      "7051-3.npy\n",
      "1043-11.npy\n",
      "9003-1a200.npy\n",
      "1029-7.npy\n",
      "7246-8.npy\n",
      "9019-10.npy\n",
      "7050-1.npy\n",
      "7132-18.npy\n",
      "1053-1.npy\n",
      "9013-g.npy\n",
      "1038-6.npy\n",
      "7016-2.npy\n",
      "7019-13.npy\n",
      "7281-7.npy\n",
      "9019-7.npy\n",
      "9026-8.npy\n",
      "7132-13.npy\n",
      "9028-7.npy\n",
      "1045-4.npy\n",
      "9026-2.npy\n",
      "7051-4.npy\n",
      "1030-3.npy\n",
      "9032-2.npy\n",
      "9033-2.npy\n",
      "9051-a.npy\n",
      "1003-1.npy\n",
      "9028-1.npy\n",
      "9037-4.npy\n",
      "9003-1d200.npy\n",
      "('Total missing labels: ', 15)\n"
     ]
    }
   ],
   "source": [
    "missing = 0\n",
    "for file in os.listdir('../input/rotation'):\n",
    "    patient = file[:4]\n",
    "    if labels.loc[labels['Patient'] == int(patient)].shape[0] == 0:\n",
    "        print('Missing:', file)\n",
    "        missing += 1\n",
    "    elif '-' in file:\n",
    "        print(patient + file[4:])\n",
    "    else:\n",
    "        print(patient + '-' + file[4:])\n",
    "print('Total missing labels: ', missing)"
   ]
  },
  {
   "cell_type": "code",
   "execution_count": 7,
   "metadata": {
    "collapsed": true
   },
   "outputs": [],
   "source": [
    "rota = np.load('../input/rotation/1001-1.npy')"
   ]
  },
  {
   "cell_type": "code",
   "execution_count": 8,
   "metadata": {
    "collapsed": false
   },
   "outputs": [
    {
     "data": {
      "text/plain": [
       "(250, 480, 640)"
      ]
     },
     "execution_count": 8,
     "metadata": {},
     "output_type": "execute_result"
    }
   ],
   "source": [
    "rota.shape"
   ]
  },
  {
   "cell_type": "code",
   "execution_count": 15,
   "metadata": {
    "collapsed": false
   },
   "outputs": [
    {
     "data": {
      "image/png": "[encoded data removed]",
      "text/plain": [
       "<matplotlib.figure.Figure at 0x7ffb2d5cda10>"
      ]
     },
     "metadata": {},
     "output_type": "display_data"
    }
   ],
   "source": [
    "plt.imshow(rota[150], cmap='gray')\n",
    "plt.show()"
   ]
  },
  {
   "cell_type": "code",
   "execution_count": 75,
   "metadata": {
    "collapsed": true
   },
   "outputs": [],
   "source": [
    "def get_blocks(lis, n):\n",
    "    for i in range(0, len(lis), n):\n",
    "        yield lis[i:i + int(n)]\n",
    "\n",
    "def mean(lis):\n",
    "    return sum(lis) / len(lis)\n",
    "\n",
    "def preprocess_data(vid, labels, y_img_size, x_img_size, block=20, visualize=False):\n",
    "    patient = vid[:4]\n",
    "    label_df = canonical.loc[canonical['Patient'] == int(patient)]\n",
    "    label = label_df.iloc[0]['class']\n",
    "    array = np.load('../input/rotation/' + vid)\n",
    "    resized_array = [cv2.resize(frame, (y_img_size, x_img_size))\n",
    "                     for frame in array]\n",
    "    block_size = math.ceil(len(resized_array) / block)\n",
    "    new_array = []\n",
    "    for block_slice in get_blocks(resized_array, block_size):\n",
    "        block_slice = list(map(mean, zip(*block_slice)))\n",
    "        new_array.append(block_slice)\n",
    "    if visualize:\n",
    "        fig = plt.figure()\n",
    "        for n, frame in enumerate(new_array):\n",
    "            y = fig.add_subplot(4, 5, n + 1)\n",
    "            y.imshow(frame, cmap='gray')\n",
    "        plt.show()\n",
    "    if label == 0: label = np.array([1,0])\n",
    "    elif label == 1: label = np.array([0,1])\n",
    "    return np.array(new_array), label\n",
    "\n",
    "def name_format(name):\n",
    "    if '-' in name:\n",
    "        return name[:-4]\n",
    "    else:\n",
    "        return name[:4] + '-' + name[4:-4]"
   ]
  },
  {
   "cell_type": "code",
   "execution_count": 63,
   "metadata": {
    "collapsed": false
   },
   "outputs": [
    {
     "data": {
      "text/html": [
       "<div>\n",
       "<table border=\"1\" class=\"dataframe\">\n",
       "  <thead>\n",
       "    <tr style=\"text-align: right;\">\n",
       "      <th></th>\n",
       "      <th>Patient</th>\n",
       "      <th>Abnormality</th>\n",
       "    </tr>\n",
       "    <tr>\n",
       "      <th>class</th>\n",
       "      <th></th>\n",
       "      <th></th>\n",
       "    </tr>\n",
       "  </thead>\n",
       "  <tbody>\n",
       "    <tr>\n",
       "      <th>0</th>\n",
       "      <td>63</td>\n",
       "      <td>63</td>\n",
       "    </tr>\n",
       "    <tr>\n",
       "      <th>1</th>\n",
       "      <td>39</td>\n",
       "      <td>39</td>\n",
       "    </tr>\n",
       "  </tbody>\n",
       "</table>\n",
       "</div>"
      ],
      "text/plain": [
       "       Patient  Abnormality\n",
       "class                      \n",
       "0           63           63\n",
       "1           39           39"
      ]
     },
     "execution_count": 63,
     "metadata": {},
     "output_type": "execute_result"
    }
   ],
   "source": [
    "videos = os.listdir('../input/rotation')\n",
    "labels = pd.read_table(labels_path, sep=' ',\n",
    "                       names=['Patient', 'Abnormality', 'class'])\n",
    "\n",
    "clean_labels = labels.drop_duplicates()\n",
    "\n",
    "canonical_labels = clean_labels[(clean_labels['Abnormality'] == 4)\n",
    "                          | (clean_labels['Abnormality'] == 1)]\n",
    "\n",
    "canonical_labels.groupby('class').count()"
   ]
  },
  {
   "cell_type": "code",
   "execution_count": 64,
   "metadata": {
    "collapsed": false
   },
   "outputs": [
    {
     "name": "stdout",
     "output_type": "stream",
     "text": [
      "Total canonical files:  266\n",
      "Total not canonical:  59\n",
      "Total valid abnormal files: 127\n",
      "Total valid normal files:  139\n"
     ]
    }
   ],
   "source": [
    "canon_arrays = []\n",
    "num_canon = 0\n",
    "abnormal = 0\n",
    "normal = 0\n",
    "total_files = len(os.listdir('../input/rotation'))\n",
    "for file in os.listdir('../input/rotation'):\n",
    "    patient = file[:4]\n",
    "    row = canonical_labels.loc[canonical_labels['Patient'] == int(patient)]\n",
    "    if row.shape[0] == 0:\n",
    "        pass\n",
    "    else:\n",
    "        canon_arrays.append(file)\n",
    "        num_canon += 1\n",
    "        if(row['class'].values == 1): abnormal += 1\n",
    "        else: normal += 1\n",
    "print('Total canonical files: ', num_canon)\n",
    "print('Total not canonical: ', total_files - num_canon)\n",
    "print('Total valid abnormal files:', abnormal)\n",
    "print('Total valid normal files: ', normal)\n",
    "assert(len(canon_arrays) == normal + abnormal)"
   ]
  },
  {
   "cell_type": "code",
   "execution_count": 53,
   "metadata": {
    "collapsed": false
   },
   "outputs": [],
   "source": [
    "x_size = 120\n",
    "y_size = 160\n",
    "block = 20\n",
    "save_path = '../input/rotation_resized_{}_{}_{}/'.format(y_size,\n",
    "                                                         x_size,\n",
    "                                                         block)\n",
    "if not os.path.exists(save_path):\n",
    "    os.mkdir(save_path)"
   ]
  },
  {
   "cell_type": "code",
   "execution_count": 77,
   "metadata": {
    "collapsed": false
   },
   "outputs": [
    {
     "name": "stdout",
     "output_type": "stream",
     "text": [
      "0\n",
      "100\n",
      "200\n"
     ]
    }
   ],
   "source": [
    "much_data = []\n",
    "for n, vid in enumerate(canon_arrays):\n",
    "    if n % 100 == 0:\n",
    "        print(n)\n",
    "    try:\n",
    "        img_data, label = preprocess_data(vid, clean_labels, \n",
    "                                          y_img_size=y_size,\n",
    "                                          x_img_size=x_size,\n",
    "                                          block=block)\n",
    "        much_data.append([img_data, label])\n",
    "    except KeyError as e:\n",
    "        print(str(e))\n",
    "    file_path = save_path + '{}_{}_{}_{}.npy'.format(name_format(vid),\n",
    "                                             y_size, \n",
    "                                             x_size,\n",
    "                                             block)\n",
    "    if not os.path.exists(file_path):\n",
    "        np.save(file_path, much_data[n])"
   ]
  },
  {
   "cell_type": "code",
   "execution_count": 78,
   "metadata": {
    "collapsed": true
   },
   "outputs": [],
   "source": [
    "x_size = 120\n",
    "y_size = 160\n",
    "block = 20\n",
    "n_classes = 2\n",
    "batch_size = 2\n",
    "dropout = 0.8\n",
    "train_test_split = 0.5"
   ]
  },
  {
   "cell_type": "code",
   "execution_count": 79,
   "metadata": {
    "collapsed": true
   },
   "outputs": [],
   "source": [
    "x = tf.placeholder('float')\n",
    "y = tf.placeholder('float')"
   ]
  },
  {
   "cell_type": "code",
   "execution_count": 85,
   "metadata": {
    "collapsed": true
   },
   "outputs": [],
   "source": [
    "def conv3d(x, W):\n",
    "    return tf.nn.conv3d(x, W, strides=[1,1,1,1,1], padding='SAME')\n",
    "\n",
    "def max_pool3d(x):\n",
    "    return tf.nn.max_pool3d(x, ksize=[1,2,2,2,1],\n",
    "                            strides=[1,2,2,2,1], padding='SAME')\n",
    "def make_cnn(x):\n",
    "    weights = {'W_conv1': tf.Variable(tf.random_normal([3,3,3,1,32])),\n",
    "               'W_conv2': tf.Variable(tf.random_normal([3,3,3,32,64])),\n",
    "               'W_fc': tf.Variable(tf.random_normal([386048, 1024])),\n",
    "               'out': tf.Variable(tf.random_normal([1024, n_classes]))}\n",
    "    \n",
    "    biases = {'b_conv1':tf.Variable(tf.random_normal([32])),\n",
    "               'b_conv2':tf.Variable(tf.random_normal([64])),\n",
    "               'b_fc':tf.Variable(tf.random_normal([1024])),\n",
    "               'out':tf.Variable(tf.random_normal([n_classes]))}\n",
    "    \n",
    "    x = tf.reshape(x, shape=[-1, x_size, y_size, block, 1])\n",
    "    \n",
    "    conv1 = tf.nn.relu(conv3d(x, weights['W_conv1']) + biases['b_conv1'])\n",
    "    conv1 = max_pool3d(conv1)\n",
    "    conv2 = tf.nn.relu(conv3d(conv1, weights['W_conv2']) + biases['b_conv2'])\n",
    "    conv2 = max_pool3d(conv2)\n",
    "    \n",
    "    fc = tf.reshape(conv2, [-1, 386048])\n",
    "    fc = tf.nn.relu(tf.matmul(fc, weights['W_fc']) + biases['b_fc'])\n",
    "    fc = tf.nn.dropout(fc, dropout)\n",
    "    \n",
    "    output = tf.matmul(fc, weights['out']) + biases['out']\n",
    "    return output\n",
    "\n",
    "def train_cnn(x):\n",
    "    y = tf.placeholder('float')\n",
    "    predictions = make_cnn(x)\n",
    "    cost = tf.reduce_mean(tf.nn.softmax_cross_entropy_with_logits(predictions, y))\n",
    "    optimizer = tf.train.AdamOptimizer(learning_rate=1e-3).minimize(cost)\n",
    "    epochs = 10\n",
    "    with tf.Session() as sess:\n",
    "        sess.run(tf.global_variables_initializer())\n",
    "        successful_runs = 0\n",
    "        total_runs = 0\n",
    "        for epoch in range(epochs):\n",
    "            epoch_loss = 0\n",
    "            for data in train:\n",
    "                total_runs += 1\n",
    "                try:\n",
    "                    x = data[0]\n",
    "                    y = data[1]\n",
    "                    _, c = sess.run([optimizer, cost], feed_dict={x:x, y:y})\n",
    "                    epoch_loss += c\n",
    "                    successful_runs += 1\n",
    "                except Exception as e:\n",
    "                    print(str(e))\n",
    "            print('Epoch', epoch+1, 'completed out of ', epochs, 'loss: ', epoch_loss)\n",
    "            correct = tf.equal(tf.argmax(prediction, 1), tf.argmax(y, 1))\n",
    "            accuracy = tf.reduce_mean(tf.cast(correct, 'float'))\n",
    "            print('Accuracy: ', accuracy.eval({x:[i[0] for i in test],\n",
    "                                               y:[i[1] for i in test]}))\n",
    "        print('Done.')\n",
    "        print('Accuracy: ', accuracy.eval({x:[i[0] for i in test],\n",
    "                                           y:[i[1] for i in test]}))\n",
    "        print('Number of successful runs: ', successful_runs/total_runs)\n"
   ]
  },
  {
   "cell_type": "code",
   "execution_count": 86,
   "metadata": {
    "collapsed": true
   },
   "outputs": [],
   "source": [
    "data_path = '../input/rotation_resized_120_160_20//'\n",
    "rota_data = os.listdir(data_path)"
   ]
  },
  {
   "cell_type": "code",
   "execution_count": 87,
   "metadata": {
    "collapsed": false
   },
   "outputs": [
    {
     "ename": "ValueError",
     "evalue": "Only call `softmax_cross_entropy_with_logits` with named arguments (labels=..., logits=..., ...)",
     "output_type": "error",
     "traceback": [
      "\u001b[0;31m---------------------------------------------------------------------------\u001b[0m",
      "\u001b[0;31mValueError\u001b[0m                                Traceback (most recent call last)",
      "\u001b[0;32m<ipython-input-87-6717583ba9ed>\u001b[0m in \u001b[0;36m<module>\u001b[0;34m()\u001b[0m\n\u001b[1;32m      5\u001b[0m \u001b[0mtest\u001b[0m \u001b[0;34m=\u001b[0m \u001b[0mrota_data\u001b[0m\u001b[0;34m[\u001b[0m\u001b[0msplit_point\u001b[0m\u001b[0;34m:\u001b[0m\u001b[0;34m]\u001b[0m\u001b[0;34m\u001b[0m\u001b[0m\n\u001b[1;32m      6\u001b[0m \u001b[0;34m\u001b[0m\u001b[0m\n\u001b[0;32m----> 7\u001b[0;31m \u001b[0mtrain_cnn\u001b[0m\u001b[0;34m(\u001b[0m\u001b[0mx\u001b[0m\u001b[0;34m)\u001b[0m\u001b[0;34m\u001b[0m\u001b[0m\n\u001b[0m",
      "\u001b[0;32m<ipython-input-85-21a14801fa4a>\u001b[0m in \u001b[0;36mtrain_cnn\u001b[0;34m(x)\u001b[0m\n\u001b[1;32m     33\u001b[0m     \u001b[0my\u001b[0m \u001b[0;34m=\u001b[0m \u001b[0mtf\u001b[0m\u001b[0;34m.\u001b[0m\u001b[0mplaceholder\u001b[0m\u001b[0;34m(\u001b[0m\u001b[0;34m'float'\u001b[0m\u001b[0;34m)\u001b[0m\u001b[0;34m\u001b[0m\u001b[0m\n\u001b[1;32m     34\u001b[0m     \u001b[0mpredictions\u001b[0m \u001b[0;34m=\u001b[0m \u001b[0mmake_cnn\u001b[0m\u001b[0;34m(\u001b[0m\u001b[0mx\u001b[0m\u001b[0;34m)\u001b[0m\u001b[0;34m\u001b[0m\u001b[0m\n\u001b[0;32m---> 35\u001b[0;31m     \u001b[0mcost\u001b[0m \u001b[0;34m=\u001b[0m \u001b[0mtf\u001b[0m\u001b[0;34m.\u001b[0m\u001b[0mreduce_mean\u001b[0m\u001b[0;34m(\u001b[0m\u001b[0mtf\u001b[0m\u001b[0;34m.\u001b[0m\u001b[0mnn\u001b[0m\u001b[0;34m.\u001b[0m\u001b[0msoftmax_cross_entropy_with_logits\u001b[0m\u001b[0;34m(\u001b[0m\u001b[0mpredictions\u001b[0m\u001b[0;34m,\u001b[0m \u001b[0my\u001b[0m\u001b[0;34m)\u001b[0m\u001b[0;34m)\u001b[0m\u001b[0;34m\u001b[0m\u001b[0m\n\u001b[0m\u001b[1;32m     36\u001b[0m     \u001b[0moptimizer\u001b[0m \u001b[0;34m=\u001b[0m \u001b[0mtf\u001b[0m\u001b[0;34m.\u001b[0m\u001b[0mtrain\u001b[0m\u001b[0;34m.\u001b[0m\u001b[0mAdamOptimizer\u001b[0m\u001b[0;34m(\u001b[0m\u001b[0mlearning_rate\u001b[0m\u001b[0;34m=\u001b[0m\u001b[0;36m1e-3\u001b[0m\u001b[0;34m)\u001b[0m\u001b[0;34m.\u001b[0m\u001b[0mminimize\u001b[0m\u001b[0;34m(\u001b[0m\u001b[0mcost\u001b[0m\u001b[0;34m)\u001b[0m\u001b[0;34m\u001b[0m\u001b[0m\n\u001b[1;32m     37\u001b[0m     \u001b[0mepochs\u001b[0m \u001b[0;34m=\u001b[0m \u001b[0;36m10\u001b[0m\u001b[0;34m\u001b[0m\u001b[0m\n",
      "\u001b[0;32m/home/ubuntu/anaconda2/lib/python2.7/site-packages/tensorflow/python/ops/nn_ops.pyc\u001b[0m in \u001b[0;36msoftmax_cross_entropy_with_logits\u001b[0;34m(_sentinel, labels, logits, dim, name)\u001b[0m\n\u001b[1;32m   1576\u001b[0m   \"\"\"\n\u001b[1;32m   1577\u001b[0m   _ensure_xent_args(\"softmax_cross_entropy_with_logits\", _sentinel,\n\u001b[0;32m-> 1578\u001b[0;31m                     labels, logits)\n\u001b[0m\u001b[1;32m   1579\u001b[0m \u001b[0;34m\u001b[0m\u001b[0m\n\u001b[1;32m   1580\u001b[0m   \u001b[0;31m# TODO(pcmurray) Raise an error when the labels do not sum to 1. Note: This\u001b[0m\u001b[0;34m\u001b[0m\u001b[0;34m\u001b[0m\u001b[0m\n",
      "\u001b[0;32m/home/ubuntu/anaconda2/lib/python2.7/site-packages/tensorflow/python/ops/nn_ops.pyc\u001b[0m in \u001b[0;36m_ensure_xent_args\u001b[0;34m(name, sentinel, labels, logits)\u001b[0m\n\u001b[1;32m   1531\u001b[0m   \u001b[0;32mif\u001b[0m \u001b[0msentinel\u001b[0m \u001b[0;32mis\u001b[0m \u001b[0;32mnot\u001b[0m \u001b[0mNone\u001b[0m\u001b[0;34m:\u001b[0m\u001b[0;34m\u001b[0m\u001b[0m\n\u001b[1;32m   1532\u001b[0m     raise ValueError(\"Only call `%s` with \"\n\u001b[0;32m-> 1533\u001b[0;31m                      \"named arguments (labels=..., logits=..., ...)\" % name)\n\u001b[0m\u001b[1;32m   1534\u001b[0m   \u001b[0;32mif\u001b[0m \u001b[0mlabels\u001b[0m \u001b[0;32mis\u001b[0m \u001b[0mNone\u001b[0m \u001b[0;32mor\u001b[0m \u001b[0mlogits\u001b[0m \u001b[0;32mis\u001b[0m \u001b[0mNone\u001b[0m\u001b[0;34m:\u001b[0m\u001b[0;34m\u001b[0m\u001b[0m\n\u001b[1;32m   1535\u001b[0m     \u001b[0;32mraise\u001b[0m \u001b[0mValueError\u001b[0m\u001b[0;34m(\u001b[0m\u001b[0;34m\"Both labels and logits must be provided.\"\u001b[0m\u001b[0;34m)\u001b[0m\u001b[0;34m\u001b[0m\u001b[0m\n",
      "\u001b[0;31mValueError\u001b[0m: Only call `softmax_cross_entropy_with_logits` with named arguments (labels=..., logits=..., ...)"
     ]
    }
   ],
   "source": [
    "random.seed(2017)\n",
    "random.shuffle(rota_data)\n",
    "split_point = int(round(train_test_split * len(rota_data)))\n",
    "train = rota_data[:split_point]\n",
    "test = rota_data[split_point:]\n",
    "\n",
    "train_cnn(x)"
   ]
  },
  {
   "cell_type": "code",
   "execution_count": null,
   "metadata": {
    "collapsed": true
   },
   "outputs": [],
   "source": []
  }
 ],
 "metadata": {
  "anaconda-cloud": {},
  "kernelspec": {
   "display_name": "Python [default]",
   "language": "python",
   "name": "python2"
  },
  "language_info": {
   "codemirror_mode": {
    "name": "ipython",
    "version": 2
   },
   "file_extension": ".py",
   "mimetype": "text/x-python",
   "name": "python",
   "nbconvert_exporter": "python",
   "pygments_lexer": "ipython2",
   "version": "2.7.12"
  }
 },
 "nbformat": 4,
 "nbformat_minor": 1
}
