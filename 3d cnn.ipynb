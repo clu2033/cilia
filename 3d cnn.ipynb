{
 "cells": [
  {
   "cell_type": "code",
   "execution_count": 69,
   "metadata": {
    "collapsed": true
   },
   "outputs": [],
   "source": [
    "import pandas as pd\n",
    "import numpy as np\n",
    "import os, glob, random, math\n",
    "import tensorflow as tf\n",
    "import cv2\n",
    "import matplotlib.pyplot as plt"
   ]
  },
  {
   "cell_type": "code",
   "execution_count": 10,
   "metadata": {
    "collapsed": false
   },
   "outputs": [],
   "source": [
    "labels_path = '../input/labels.txt'\n",
    "labels = pd.read_table(labels_path, sep=' ', names=['Patient', 'Abnormality', 'class'])"
   ]
  },
  {
   "cell_type": "code",
   "execution_count": 22,
   "metadata": {
    "collapsed": false
   },
   "outputs": [
    {
     "data": {
      "text/html": [
       "<div>\n",
       "<table border=\"1\" class=\"dataframe\">\n",
       "  <thead>\n",
       "    <tr style=\"text-align: right;\">\n",
       "      <th></th>\n",
       "      <th>Patient</th>\n",
       "      <th>Abnormality</th>\n",
       "    </tr>\n",
       "    <tr>\n",
       "      <th>class</th>\n",
       "      <th></th>\n",
       "      <th></th>\n",
       "    </tr>\n",
       "  </thead>\n",
       "  <tbody>\n",
       "    <tr>\n",
       "      <th>0</th>\n",
       "      <td>96</td>\n",
       "      <td>96</td>\n",
       "    </tr>\n",
       "    <tr>\n",
       "      <th>1</th>\n",
       "      <td>53</td>\n",
       "      <td>53</td>\n",
       "    </tr>\n",
       "  </tbody>\n",
       "</table>\n",
       "</div>"
      ],
      "text/plain": [
       "       Patient  Abnormality\n",
       "class                      \n",
       "0           96           96\n",
       "1           53           53"
      ]
     },
     "execution_count": 22,
     "metadata": {},
     "output_type": "execute_result"
    }
   ],
   "source": [
    "labels.groupby('class').count()"
   ]
  },
  {
   "cell_type": "code",
   "execution_count": 20,
   "metadata": {
    "collapsed": false
   },
   "outputs": [
    {
     "data": {
      "text/html": [
       "<div>\n",
       "<table border=\"1\" class=\"dataframe\">\n",
       "  <thead>\n",
       "    <tr style=\"text-align: right;\">\n",
       "      <th></th>\n",
       "      <th>Patient</th>\n",
       "      <th>class</th>\n",
       "    </tr>\n",
       "    <tr>\n",
       "      <th>Abnormality</th>\n",
       "      <th></th>\n",
       "      <th></th>\n",
       "    </tr>\n",
       "  </thead>\n",
       "  <tbody>\n",
       "    <tr>\n",
       "      <th>1</th>\n",
       "      <td>82</td>\n",
       "      <td>82</td>\n",
       "    </tr>\n",
       "    <tr>\n",
       "      <th>2</th>\n",
       "      <td>14</td>\n",
       "      <td>14</td>\n",
       "    </tr>\n",
       "    <tr>\n",
       "      <th>3</th>\n",
       "      <td>13</td>\n",
       "      <td>13</td>\n",
       "    </tr>\n",
       "    <tr>\n",
       "      <th>4</th>\n",
       "      <td>40</td>\n",
       "      <td>40</td>\n",
       "    </tr>\n",
       "  </tbody>\n",
       "</table>\n",
       "</div>"
      ],
      "text/plain": [
       "             Patient  class\n",
       "Abnormality                \n",
       "1                 82     82\n",
       "2                 14     14\n",
       "3                 13     13\n",
       "4                 40     40"
      ]
     },
     "execution_count": 20,
     "metadata": {},
     "output_type": "execute_result"
    }
   ],
   "source": [
    "labels.groupby('Abnormality').count()"
   ]
  },
  {
   "cell_type": "code",
   "execution_count": 37,
   "metadata": {
    "collapsed": false
   },
   "outputs": [
    {
     "name": "stdout",
     "output_type": "stream",
     "text": [
      "1001-1.npy\n",
      "    Patient  Abnormality  class\n",
      "51     1001            1      0\n",
      "75     1001            1      0\n",
      "1001-13.npy\n",
      "    Patient  Abnormality  class\n",
      "51     1001            1      0\n",
      "75     1001            1      0\n",
      "1001-2.npy\n",
      "    Patient  Abnormality  class\n",
      "51     1001            1      0\n",
      "75     1001            1      0\n"
     ]
    }
   ],
   "source": [
    "for file in os.listdir('../input/rotation')[:3]:\n",
    "    patient = file[:4]\n",
    "    if '-' in file:\n",
    "        print(patient + file[4:])\n",
    "    else:\n",
    "        print(patient + '-' + file[4:])\n",
    "\n",
    "    print(labels.loc[labels['Patient'] == int(patient)])"
   ]
  },
  {
   "cell_type": "code",
   "execution_count": 38,
   "metadata": {
    "collapsed": true
   },
   "outputs": [],
   "source": [
    "rota = np.load('../input/rotation/1001-1.npy')"
   ]
  },
  {
   "cell_type": "code",
   "execution_count": 42,
   "metadata": {
    "collapsed": false
   },
   "outputs": [
    {
     "data": {
      "text/plain": [
       "(250, 480, 640)"
      ]
     },
     "execution_count": 42,
     "metadata": {},
     "output_type": "execute_result"
    }
   ],
   "source": [
    "rota.shape"
   ]
  },
  {
   "cell_type": "code",
   "execution_count": 55,
   "metadata": {
    "collapsed": false
   },
   "outputs": [],
   "source": [
    "# plt.imshow(rota[150])\n",
    "# plt.show()"
   ]
  },
  {
   "cell_type": "code",
   "execution_count": 201,
   "metadata": {
    "collapsed": true
   },
   "outputs": [],
   "source": [
    "def blocks(lis, n):\n",
    "    for i in range(0, len(lis), n):\n",
    "        yield lis[i:i + n]\n",
    "\n",
    "def mean(lis):\n",
    "    return sum(lis) / len(lis)\n",
    "\n",
    "def preprocess_data(vid, labels, y_img_size, x_img_size, block=20, visualize=False):\n",
    "    patient = vid[:4]\n",
    "    label_df = clean_labels.loc[labels['Patient'] == int(patient)]\n",
    "    label = label_df.iloc[0]['class']\n",
    "    array = np.load('../input/rotation/' + vid)\n",
    "    resized_array = [cv2.resize(frame, (y_img_size, x_img_size))\n",
    "                     for frame in array]\n",
    "    block_size = math.ceil(len(resized_array) / block)\n",
    "    new_array = []\n",
    "    for block_slice in blocks(resized_array, block_size):\n",
    "        block_slice = list(map(mean, zip(*block_slice)))\n",
    "        new_array.append(block_slice)\n",
    "    if visualize:\n",
    "        fig = plt.figure()\n",
    "        for n, frame in enumerate(new_array):\n",
    "            y = fig.add_subplot(4, 5, n + 1)\n",
    "            y.imshow(frame, cmap='gray')\n",
    "        plt.show()\n",
    "    if label == 0: label = np.array([1,0])\n",
    "    elif label == 4: label = np.array([1,0])\n",
    "    return np.array(new_array), label\n",
    "\n",
    "def name_format(name):\n",
    "    if '-' in name:\n",
    "        return name[:-4]\n",
    "    else:\n",
    "        return name[:4] + '-' + name[4:-4]"
   ]
  },
  {
   "cell_type": "code",
   "execution_count": 220,
   "metadata": {
    "collapsed": false
   },
   "outputs": [],
   "source": [
    "canonical = clean_labels[(clean_labels['Abnormality'] == 4)\n",
    "                          | (clean_labels['Abnormality'] == 1)]"
   ]
  },
  {
   "cell_type": "code",
   "execution_count": 223,
   "metadata": {
    "collapsed": false
   },
   "outputs": [
    {
     "data": {
      "text/html": [
       "<div>\n",
       "<table border=\"1\" class=\"dataframe\">\n",
       "  <thead>\n",
       "    <tr style=\"text-align: right;\">\n",
       "      <th></th>\n",
       "      <th>Patient</th>\n",
       "      <th>Abnormality</th>\n",
       "    </tr>\n",
       "    <tr>\n",
       "      <th>class</th>\n",
       "      <th></th>\n",
       "      <th></th>\n",
       "    </tr>\n",
       "  </thead>\n",
       "  <tbody>\n",
       "    <tr>\n",
       "      <th>0</th>\n",
       "      <td>63</td>\n",
       "      <td>63</td>\n",
       "    </tr>\n",
       "    <tr>\n",
       "      <th>1</th>\n",
       "      <td>39</td>\n",
       "      <td>39</td>\n",
       "    </tr>\n",
       "  </tbody>\n",
       "</table>\n",
       "</div>"
      ],
      "text/plain": [
       "       Patient  Abnormality\n",
       "class                      \n",
       "0           63           63\n",
       "1           39           39"
      ]
     },
     "execution_count": 223,
     "metadata": {},
     "output_type": "execute_result"
    }
   ],
   "source": [
    "canonical.groupby('class').count()"
   ]
  },
  {
   "cell_type": "code",
   "execution_count": 236,
   "metadata": {
    "collapsed": false
   },
   "outputs": [
    {
     "name": "stdout",
     "output_type": "stream",
     "text": [
      "0\n"
     ]
    }
   ],
   "source": [
    "x_size = 120\n",
    "y_size = 160\n",
    "block = 20\n",
    "\n",
    "save_path = '../input/rotation_resized/'\n",
    "videos = os.listdir('../input/rotation')\n",
    "labels = pd.read_table(labels_path, sep=' ',\n",
    "                       names=['Patient', 'Abnormality', 'class'])\n",
    "\n",
    "clean_labels = labels.drop_duplicates()\n",
    "\n",
    "much_data = []\n",
    "for n, vid in enumerate(videos):\n",
    "    if n % 100 == 0:\n",
    "        print(n)\n",
    "    try:\n",
    "        img_data, label = preprocess_data(vid, clean_labels, \n",
    "                                          y_img_size=y_size,\n",
    "                                          x_img_size=x_size,\n",
    "                                          block=block)\n",
    "        much_data.append([img_data, label])\n",
    "    except KeyError as e:\n",
    "        print(str(e))\n",
    "    file_path = save_path + '{}_{}_{}_{}.npy'.format(name_format(vid),\n",
    "                                             y_size, \n",
    "                                             x_size,\n",
    "                                             block)\n",
    "    if not os.path.exists(file_path):\n",
    "        np.save(file_path, much_data[n])\n"
   ]
  },
  {
   "cell_type": "code",
   "execution_count": 235,
   "metadata": {
    "collapsed": false
   },
   "outputs": [],
   "source": [
    "ls ../input/rotation_resized/"
   ]
  },
  {
   "cell_type": "code",
   "execution_count": 234,
   "metadata": {
    "collapsed": true
   },
   "outputs": [],
   "source": [
    "rm ../input/rotation_resized/*npy"
   ]
  },
  {
   "cell_type": "code",
   "execution_count": 205,
   "metadata": {
    "collapsed": true
   },
   "outputs": [],
   "source": [
    "rota = np.load('../input/rotation_resized/1001-13_320_240_20.npy')"
   ]
  },
  {
   "cell_type": "code",
   "execution_count": 215,
   "metadata": {
    "collapsed": false
   },
   "outputs": [
    {
     "data": {
      "text/plain": [
       "array([1, 0])"
      ]
     },
     "execution_count": 215,
     "metadata": {},
     "output_type": "execute_result"
    }
   ],
   "source": [
    "rota[1]"
   ]
  },
  {
   "cell_type": "code",
   "execution_count": 248,
   "metadata": {
    "collapsed": true
   },
   "outputs": [],
   "source": [
    "x_size = 120\n",
    "y_size = 160\n",
    "block = 20\n",
    "n_classes = 2\n",
    "batch_size = 2\n",
    "dropout = 0.8\n",
    "train_test_split = 0.5"
   ]
  },
  {
   "cell_type": "code",
   "execution_count": 275,
   "metadata": {
    "collapsed": true
   },
   "outputs": [],
   "source": [
    "x = tf.placeholder('float')\n",
    "y = tf.placeholder('float')"
   ]
  },
  {
   "cell_type": "code",
   "execution_count": 276,
   "metadata": {
    "collapsed": true
   },
   "outputs": [],
   "source": [
    "def conv3d(x, W):\n",
    "    return tf.nn.conv3d(x, W, strides=[1,1,1,1,1], padding='SAME')\n",
    "\n",
    "def max_pool3d(x):\n",
    "    return tf.nn.max_pool3d(x, ksize=[1,2,2,2,1],\n",
    "                            strides=[1,2,2,2,1], padding='SAME')\n",
    "def make_cnn(x):\n",
    "    weights = {'W_conv1': tf.Variable(tf.random_normal([3,3,3,1,32])),\n",
    "               'W_conv2': tf.Variable(tf.random_normal([3,3,3,32,64])),\n",
    "               'W_fc': tf.Variable(tf.random_normal([386048, 1024])),\n",
    "               'out': tf.Variable(tf.random_normal([1024, n_classes]))}\n",
    "    \n",
    "    biases = {'b_conv1':tf.Variable(tf.random_normal([32])),\n",
    "               'b_conv2':tf.Variable(tf.random_normal([64])),\n",
    "               'b_fc':tf.Variable(tf.random_normal([1024])),\n",
    "               'out':tf.Variable(tf.random_normal([n_classes]))}\n",
    "    \n",
    "    x = tf.reshape(x, shape=[-1, x_size, y_size, block, 1])\n",
    "    \n",
    "    conv1 = tf.nn.relu(conv3d(x, weights['W_conv1']) + biases['b_conv1'])\n",
    "    conv1 = max_pool3d(conv1)\n",
    "    conv2 = tf.nn.relu(conv3d(conv1, weights['W_conv2']) + biases['b_conv2'])\n",
    "    conv2 = max_pool3d(conv2)\n",
    "    \n",
    "    fc = tf.reshape(conv2, [-1, 386048])\n",
    "    fc = tf.nn.relu(tf.matmul(fc, weights['W_fc']) + biases['b_fc'])\n",
    "    fc = tf.nn.dropout(fc, dropout)\n",
    "    \n",
    "    output = tf.matmul(fc, weights['out']) + biases['out']\n",
    "    return output\n",
    "\n",
    "def train_cnn(x):\n",
    "    predictions = make_cnn(x)\n",
    "    cost = tf.reduce_mean(tf.nn.softmax_cross_entropy_with_logits(predictions, y))\n",
    "    optimizer = tf.train.AdamOptimizer(learning_rate=1e-3).minimize(cost)\n",
    "    epochs = 10\n",
    "    with tf.Session() as sess:\n",
    "        sess.run(tf.global_variables_initializer())\n",
    "        successful_runs = 0\n",
    "        total_runs = 0\n",
    "        for epoch in range(epochs):\n",
    "            epoch_loss = 0\n",
    "            for data in train:\n",
    "                total_runs += 1\n",
    "                try:\n",
    "                    x = data[0]\n",
    "                    y = data[1]\n",
    "                    _, c = sess.run([optimizer, cost], feed_dict={x:x, y:y})\n",
    "                    epoch_loss += c\n",
    "                    successful_runs += 1\n",
    "                except Exception as e:\n",
    "                    print(str(e))\n",
    "            print('Epoch', epoch+1, 'completed out of ', epochs, 'loss: ', epoch_loss)\n",
    "            correct = tf.equal(tf.argmax(prediction, 1), tf.argmax(y, 1))\n",
    "            accuracy = tf.reduce_mean(tf.cast(correct, 'float'))\n",
    "            print('Accuracy: ', accuracy.eval({x:[i[0] for i in test],\n",
    "                                               y:[i[1] for i in test]}))\n",
    "            print('Done.')\n",
    "            print('Accuracy: ', accuracy.eval({x:[i[0] for i in test],\n",
    "                                               y:[i[1] for i in test]}))\n",
    "            print('Number of successful runs: ', successful_runs/total_runs)\n",
    "            "
   ]
  },
  {
   "cell_type": "code",
   "execution_count": 277,
   "metadata": {
    "collapsed": true
   },
   "outputs": [],
   "source": [
    "data_path = '../input/rotation_resized/'\n",
    "rota_data = os.listdir(data_path)"
   ]
  },
  {
   "cell_type": "code",
   "execution_count": 278,
   "metadata": {
    "collapsed": false
   },
   "outputs": [
    {
     "ename": "UnboundLocalError",
     "evalue": "local variable 'y' referenced before assignment",
     "output_type": "error",
     "traceback": [
      "\u001b[0;31m---------------------------------------------------------------------------\u001b[0m",
      "\u001b[0;31mUnboundLocalError\u001b[0m                         Traceback (most recent call last)",
      "\u001b[0;32m<ipython-input-278-6717583ba9ed>\u001b[0m in \u001b[0;36m<module>\u001b[0;34m()\u001b[0m\n\u001b[1;32m      5\u001b[0m \u001b[0mtest\u001b[0m \u001b[0;34m=\u001b[0m \u001b[0mrota_data\u001b[0m\u001b[0;34m[\u001b[0m\u001b[0msplit_point\u001b[0m\u001b[0;34m:\u001b[0m\u001b[0;34m]\u001b[0m\u001b[0;34m\u001b[0m\u001b[0m\n\u001b[1;32m      6\u001b[0m \u001b[0;34m\u001b[0m\u001b[0m\n\u001b[0;32m----> 7\u001b[0;31m \u001b[0mtrain_cnn\u001b[0m\u001b[0;34m(\u001b[0m\u001b[0mx\u001b[0m\u001b[0;34m)\u001b[0m\u001b[0;34m\u001b[0m\u001b[0m\n\u001b[0m",
      "\u001b[0;32m<ipython-input-276-2e7a2b83f5c2>\u001b[0m in \u001b[0;36mtrain_cnn\u001b[0;34m(x)\u001b[0m\n\u001b[1;32m     32\u001b[0m \u001b[0;32mdef\u001b[0m \u001b[0mtrain_cnn\u001b[0m\u001b[0;34m(\u001b[0m\u001b[0mx\u001b[0m\u001b[0;34m)\u001b[0m\u001b[0;34m:\u001b[0m\u001b[0;34m\u001b[0m\u001b[0m\n\u001b[1;32m     33\u001b[0m     \u001b[0mpredictions\u001b[0m \u001b[0;34m=\u001b[0m \u001b[0mmake_cnn\u001b[0m\u001b[0;34m(\u001b[0m\u001b[0mx\u001b[0m\u001b[0;34m)\u001b[0m\u001b[0;34m\u001b[0m\u001b[0m\n\u001b[0;32m---> 34\u001b[0;31m     \u001b[0mcost\u001b[0m \u001b[0;34m=\u001b[0m \u001b[0mtf\u001b[0m\u001b[0;34m.\u001b[0m\u001b[0mreduce_mean\u001b[0m\u001b[0;34m(\u001b[0m\u001b[0mtf\u001b[0m\u001b[0;34m.\u001b[0m\u001b[0mnn\u001b[0m\u001b[0;34m.\u001b[0m\u001b[0msoftmax_cross_entropy_with_logits\u001b[0m\u001b[0;34m(\u001b[0m\u001b[0mpredictions\u001b[0m\u001b[0;34m,\u001b[0m \u001b[0my\u001b[0m\u001b[0;34m)\u001b[0m\u001b[0;34m)\u001b[0m\u001b[0;34m\u001b[0m\u001b[0m\n\u001b[0m\u001b[1;32m     35\u001b[0m     \u001b[0moptimizer\u001b[0m \u001b[0;34m=\u001b[0m \u001b[0mtf\u001b[0m\u001b[0;34m.\u001b[0m\u001b[0mtrain\u001b[0m\u001b[0;34m.\u001b[0m\u001b[0mAdamOptimizer\u001b[0m\u001b[0;34m(\u001b[0m\u001b[0mlearning_rate\u001b[0m\u001b[0;34m=\u001b[0m\u001b[0;36m1e-3\u001b[0m\u001b[0;34m)\u001b[0m\u001b[0;34m.\u001b[0m\u001b[0mminimize\u001b[0m\u001b[0;34m(\u001b[0m\u001b[0mcost\u001b[0m\u001b[0;34m)\u001b[0m\u001b[0;34m\u001b[0m\u001b[0m\n\u001b[1;32m     36\u001b[0m     \u001b[0mepochs\u001b[0m \u001b[0;34m=\u001b[0m \u001b[0;36m10\u001b[0m\u001b[0;34m\u001b[0m\u001b[0m\n",
      "\u001b[0;31mUnboundLocalError\u001b[0m: local variable 'y' referenced before assignment"
     ]
    }
   ],
   "source": [
    "random.seed(2017)\n",
    "random.shuffle(rota_data)\n",
    "split_point = int(round(train_test_split * len(rota_data)))\n",
    "train = rota_data[:split_point]\n",
    "test = rota_data[split_point:]\n",
    "\n",
    "train_cnn(x)"
   ]
  },
  {
   "cell_type": "code",
   "execution_count": null,
   "metadata": {
    "collapsed": true
   },
   "outputs": [],
   "source": []
  }
 ],
 "metadata": {
  "anaconda-cloud": {},
  "kernelspec": {
   "display_name": "Python [default]",
   "language": "python",
   "name": "python3"
  },
  "language_info": {
   "codemirror_mode": {
    "name": "ipython",
    "version": 3
   },
   "file_extension": ".py",
   "mimetype": "text/x-python",
   "name": "python",
   "nbconvert_exporter": "python",
   "pygments_lexer": "ipython3",
   "version": "3.5.2"
  }
 },
 "nbformat": 4,
 "nbformat_minor": 1
}
